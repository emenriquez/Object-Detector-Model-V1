{
 "cells": [
  {
   "cell_type": "code",
   "execution_count": null,
   "metadata": {},
   "outputs": [],
   "source": [
    "python object_detection/export_inference_graph.py \\\n",
    "    --input_type= image_tensor \\\n",
    "    --pipeline_config_path= 'training/ssd_inception_v2_coco.config' \\\n",
    "    --trained_checkpoint_prefix=${TRAINED_CKPT_PREFIX} \\\n",
    "    --output_directory=${EXPORT_DIR}"
   ]
  }
 ],
 "metadata": {
  "kernelspec": {
   "display_name": "Python 3",
   "language": "python",
   "name": "python3"
  },
  "language_info": {
   "codemirror_mode": {
    "name": "ipython",
    "version": 3
   },
   "file_extension": ".py",
   "mimetype": "text/x-python",
   "name": "python",
   "nbconvert_exporter": "python",
   "pygments_lexer": "ipython3",
   "version": "3.6.3"
  }
 },
 "nbformat": 4,
 "nbformat_minor": 2
}
